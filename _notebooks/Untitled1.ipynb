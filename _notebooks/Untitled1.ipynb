{
 "cells": [
  {
   "cell_type": "markdown",
   "id": "abe5be9e-90b5-4efd-bd4f-a5e011469512",
   "metadata": {},
   "source": [
    "# 2 "
   ]
  },
  {
   "cell_type": "markdown",
   "id": "26885022-d832-443f-bbd8-c0b54b35f232",
   "metadata": {},
   "source": [
    "## imports"
   ]
  },
  {
   "cell_type": "code",
   "execution_count": 1,
   "id": "51e98945-4d15-4745-86f1-01924b74127d",
   "metadata": {
    "tags": []
   },
   "outputs": [],
   "source": [
    "import torch\n",
    "import torchvision\n",
    "from fastai.data.all import *\n",
    "import matplotlib.pyplot as plt"
   ]
  },
  {
   "cell_type": "code",
   "execution_count": 2,
   "id": "655ae0ae-b891-4280-9305-f5028f67293a",
   "metadata": {},
   "outputs": [],
   "source": [
    "import graphviz\n",
    "def gv(s): return graphviz.Source('digraph G{ rankdir=\"LR\"'+s + '; }');"
   ]
  },
  {
   "cell_type": "code",
   "execution_count": 3,
   "id": "7d788e48-d366-410a-8c93-212ef8d0b1df",
   "metadata": {},
   "outputs": [
    {
     "data": {
      "text/plain": [
       "'svg'"
      ]
     },
     "execution_count": 3,
     "metadata": {},
     "output_type": "execute_result"
    }
   ],
   "source": [
    "#hide\n",
    "graphviz.set_jupyter_format('png')"
   ]
  },
  {
   "cell_type": "markdown",
   "id": "4f13bc91-782f-47c9-98ef-86703688a4ab",
   "metadata": {},
   "source": [
    "### 예제3 (MNIST data with DNN) "
   ]
  },
  {
   "cell_type": "markdown",
   "id": "eaacd091-cc04-4289-b67a-8f077c55b280",
   "metadata": {},
   "source": [
    "#### `#` 예비학습"
   ]
  },
  {
   "cell_type": "markdown",
   "id": "783df0e2-1ff5-4784-9368-d20d8b0cb365",
   "metadata": {
    "tags": []
   },
   "source": [
    "**(예비학습1) Path**"
   ]
  },
  {
   "cell_type": "markdown",
   "id": "f21dbb46-9d74-43db-a642-11450e7e4134",
   "metadata": {},
   "source": [
    "**(예비학습2)** plt.imshow"
   ]
  },
  {
   "cell_type": "markdown",
   "id": "5ab328b0-7cf4-4e11-82ff-12ba05b71cd7",
   "metadata": {},
   "source": [
    "**(예비학습3)** torchvision"
   ]
  },
  {
   "cell_type": "markdown",
   "id": "a2c432d9-4e08-497f-ac88-d006de8fdc9b",
   "metadata": {},
   "source": [
    "#### `#` 데이터정리 "
   ]
  },
  {
   "cell_type": "markdown",
   "id": "80302fc6-d3cd-43b2-a343-ab9a86c0a458",
   "metadata": {},
   "source": [
    "#### `#` 학습 "
   ]
  },
  {
   "cell_type": "markdown",
   "id": "f123daff-7823-4ac6-af72-66dd9df15cbb",
   "metadata": {},
   "source": [
    "`-` 네트워크의 설계"
   ]
  },
  {
   "cell_type": "markdown",
   "id": "0e71f632-5dc0-4491-a6a4-c4ea4a32a236",
   "metadata": {},
   "source": [
    "- $\\underset{(n,784)}{\\bf X} \\overset{l_1}{\\to} \\underset{(n,30)}{\\boldsymbol u^{(1)}} \\overset{a_1}{\\to} \\underset{(n,30)}{\\boldsymbol v^{(1)}} \\overset{l_1}{\\to} \\underset{(n,1)}{\\boldsymbol u^{(2)}} \\overset{a_2}{\\to} \\underset{(n,1)}{\\boldsymbol v^{(2)}}=\\underset{(n,1)}{\\hat{\\boldsymbol y}}$"
   ]
  }
 ],
 "metadata": {
  "kernelspec": {
   "display_name": "Python 3 (ipykernel)",
   "language": "python",
   "name": "python3"
  },
  "language_info": {
   "codemirror_mode": {
    "name": "ipython",
    "version": 3
   },
   "file_extension": ".py",
   "mimetype": "text/x-python",
   "name": "python",
   "nbconvert_exporter": "python",
   "pygments_lexer": "ipython3",
   "version": "3.7.13"
  }
 },
 "nbformat": 4,
 "nbformat_minor": 5
}
