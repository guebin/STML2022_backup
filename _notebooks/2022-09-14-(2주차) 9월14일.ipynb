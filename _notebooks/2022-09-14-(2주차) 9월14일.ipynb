{
 "cells": [
  {
   "cell_type": "markdown",
   "id": "3d3f55a9-816b-4d78-8f7c-72c343e2d380",
   "metadata": {
    "id": "63af0d24-3cdb-4fb4-b6ef-9642d3a56f88",
    "tags": []
   },
   "source": [
    "# (2주차) 9월14일 \n",
    "> CNN을 활용한 이미지 자료분석 \n",
    "\n",
    "- toc:true\n",
    "- branch: master\n",
    "- badges: true\n",
    "- comments: true\n",
    "- author: 최규빈"
   ]
  },
  {
   "cell_type": "code",
   "execution_count": null,
   "id": "6a9a6899-1e2b-484d-95f1-fc8bdf334427",
   "metadata": {},
   "outputs": [],
   "source": []
  }
 ],
 "metadata": {
  "kernelspec": {
   "display_name": "Python 3 (ipykernel)",
   "language": "python",
   "name": "python3"
  },
  "language_info": {
   "codemirror_mode": {
    "name": "ipython",
    "version": 3
   },
   "file_extension": ".py",
   "mimetype": "text/x-python",
   "name": "python",
   "nbconvert_exporter": "python",
   "pygments_lexer": "ipython3",
   "version": "3.7.13"
  }
 },
 "nbformat": 4,
 "nbformat_minor": 5
}
