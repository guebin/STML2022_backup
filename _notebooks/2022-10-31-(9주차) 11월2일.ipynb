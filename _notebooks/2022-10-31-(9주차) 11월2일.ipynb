{
 "cells": [
  {
   "cell_type": "markdown",
   "id": "7719d563-3bf1-4cdc-a468-fa97bb108655",
   "metadata": {
    "tags": []
   },
   "source": [
    "# (9주차) 11월2일 \n",
    "> 순환신경망-- ab예제, embedding layer\n",
    "\n",
    "- toc:true\n",
    "- branch: master\n",
    "- badges: true\n",
    "- comments: true\n",
    "- author: 최규빈"
   ]
  },
  {
   "cell_type": "markdown",
   "id": "3d620c88-c849-465b-828e-982a1ece68df",
   "metadata": {},
   "source": [
    "## 강의영상 "
   ]
  },
  {
   "cell_type": "markdown",
   "id": "f0b061bf-1c2d-4961-8c26-18d2a6ce44ea",
   "metadata": {},
   "source": [
    "> youtube: https://youtube.com/playlist?list=PLQqh36zP38-wGHXZyM5BnEY6ZEjLQ4f1L"
   ]
  },
  {
   "cell_type": "markdown",
   "id": "e6553356-71da-4dfd-ae15-9c57d1ac17e4",
   "metadata": {},
   "source": [
    "## import"
   ]
  },
  {
   "cell_type": "code",
   "execution_count": 2,
   "id": "d659a70a-0787-4b44-9f4d-cfd3229de778",
   "metadata": {},
   "outputs": [],
   "source": [
    "import torch\n",
    "import pandas as pd\n",
    "import matplotlib.pyplot as plt"
   ]
  },
  {
   "cell_type": "markdown",
   "id": "0db6e233-bed1-4e5f-91e5-a1fd17d9af76",
   "metadata": {
    "tags": []
   },
   "source": [
    "## Define some funtions"
   ]
  },
  {
   "cell_type": "markdown",
   "id": "9e9c74f7-01ca-4dc3-968e-0ff3669830f4",
   "metadata": {},
   "source": [
    "`-` 활성화함수들 "
   ]
  },
  {
   "cell_type": "code",
   "execution_count": 5,
   "id": "0b484a5d-6a33-4185-9207-021c75e63be0",
   "metadata": {},
   "outputs": [],
   "source": [
    "sig = torch.nn.Sigmoid()\n",
    "soft = torch.nn.Softmax(dim=1)\n",
    "tanh = torch.nn.Tanh()"
   ]
  },
  {
   "cell_type": "code",
   "execution_count": 3,
   "id": "f803d01f-9e6b-4d37-a11a-0236e1d92122",
   "metadata": {},
   "outputs": [
    {
     "data": {
      "text/plain": [
       "Text(0.5, 1.0, 'tanh(x)')"
      ]
     },
     "execution_count": 3,
     "metadata": {},
     "output_type": "execute_result"
    },
    {
     "data": {
      "image/png": "[encoded data removed]",
      "text/plain": [
       "<Figure size 432x288 with 1 Axes>"
      ]
     },
     "metadata": {
      "needs_background": "light"
     },
     "output_type": "display_data"
    }
   ],
   "source": [
    "_x = torch.linspace(-5,5,100)\n",
    "plt.plot(_x,tanh(_x))\n",
    "plt.title(\"tanh(x)\", size=15)"
   ]
  },
  {
   "cell_type": "markdown",
   "id": "b3e9e8e6-7f77-428e-8e5e-01d54b6a0b90",
   "metadata": {},
   "source": [
    "`-` 문자열 -> 숫자로 바꾸는 함수"
   ]
  },
  {
   "cell_type": "code",
   "execution_count": 8,
   "id": "1ab88425-9f1e-47ef-8e66-d81d9705726b",
   "metadata": {},
   "outputs": [],
   "source": [
    "def f(txt,mapping):\n",
    "    return [mapping[key] for key in txt] "
   ]
  },
  {
   "cell_type": "markdown",
   "id": "c3a2e3f4-cb83-4bae-b4b9-082e27dcdc8c",
   "metadata": {},
   "source": [
    "(사용예시1)"
   ]
  },
  {
   "cell_type": "code",
   "execution_count": 9,
   "id": "cda7bd1d-4b70-4073-8580-e502515669e7",
   "metadata": {},
   "outputs": [
    {
     "name": "stdout",
     "output_type": "stream",
     "text": [
      "변환전: ['a', 'b', 'a']\n",
      "변환후: [33, -22, 33]\n"
     ]
    }
   ],
   "source": [
    "txt = ['a','b','a']\n",
    "mapping = {'a':33,'b':-22}\n",
    "print('변환전: %s'% txt)\n",
    "print('변환후: %s'% f(txt,mapping))"
   ]
  },
  {
   "cell_type": "markdown",
   "id": "9a6b1356-ac31-4446-b58b-89438c32856f",
   "metadata": {},
   "source": [
    "(사용예시2)"
   ]
  },
  {
   "cell_type": "code",
   "execution_count": 13,
   "id": "cf16051b-dc45-456a-ad16-2c73e8d0344b",
   "metadata": {},
   "outputs": [
    {
     "name": "stdout",
     "output_type": "stream",
     "text": [
      "변환전: ['a', 'b', 'a']\n",
      "변환후: [[1, 0], [0, 1], [1, 0]]\n"
     ]
    }
   ],
   "source": [
    "txt = ['a','b','a']\n",
    "mapping = {'a':[1,0],'b':[0,1]}\n",
    "print('변환전: %s'% txt)\n",
    "print('변환후: %s'% f(txt,mapping))"
   ]
  },
  {
   "cell_type": "markdown",
   "id": "d9aeb71e-50b5-4785-9a70-657ff7a5b9ce",
   "metadata": {},
   "source": [
    "## Exam1: ab"
   ]
  },
  {
   "cell_type": "markdown",
   "id": "55626436-9752-48b9-b7ea-83c8c762123b",
   "metadata": {},
   "source": [
    "### data"
   ]
  },
  {
   "cell_type": "code",
   "execution_count": 18,
   "id": "57f00d79-bcbb-4228-b8c6-c061aad1db63",
   "metadata": {},
   "outputs": [
    {
     "data": {
      "text/plain": [
       "['a', 'b', 'a', 'b', 'a', 'b', 'a', 'b', 'a', 'b']"
      ]
     },
     "execution_count": 18,
     "metadata": {},
     "output_type": "execute_result"
    }
   ],
   "source": [
    "txt = list('ab')*100\n",
    "txt[:10]"
   ]
  },
  {
   "cell_type": "code",
   "execution_count": 21,
   "id": "1550b90c-b546-4200-a90e-789bdd7d7f65",
   "metadata": {},
   "outputs": [],
   "source": [
    "txt_x = txt[:-1]\n",
    "txt_y = txt[1:]"
   ]
  },
  {
   "cell_type": "code",
   "execution_count": 22,
   "id": "eb6a094e-ee9f-4f06-b384-3d486a4b43b8",
   "metadata": {},
   "outputs": [
    {
     "data": {
      "text/plain": [
       "(['a', 'b', 'a', 'b', 'a'], ['b', 'a', 'b', 'a', 'b'])"
      ]
     },
     "execution_count": 22,
     "metadata": {},
     "output_type": "execute_result"
    }
   ],
   "source": [
    "txt_x[:5],txt_y[:5]"
   ]
  },
  {
   "cell_type": "markdown",
   "id": "d0bc6411-2d04-4e10-ac2d-d94a96a06fa2",
   "metadata": {},
   "source": [
    "### 선형모형을 이용한 풀이"
   ]
  },
  {
   "cell_type": "markdown",
   "id": "070ddec1-4057-477c-bae9-5351ac000d74",
   "metadata": {},
   "source": [
    "#### ***(풀이1) 1개의 파라메터 -- 실패***"
   ]
  },
  {
   "cell_type": "markdown",
   "id": "b850a86f-70e9-499d-a159-b7058def42d7",
   "metadata": {},
   "source": [
    "`-` 데이터정리 "
   ]
  },
  {
   "cell_type": "code",
   "execution_count": 28,
   "id": "97a17769-a4ce-4e83-9d7c-7f932464249f",
   "metadata": {},
   "outputs": [],
   "source": [
    "x = torch.tensor(f(txt_x,{'a':0,'b':1})).float().reshape(-1,1)\n",
    "y = torch.tensor(f(txt_y,{'a':0,'b':1})).float().reshape(-1,1)"
   ]
  },
  {
   "cell_type": "code",
   "execution_count": 29,
   "id": "0d0a4184-9e4e-4e3a-9705-ce95ade1dd8b",
   "metadata": {},
   "outputs": [
    {
     "data": {
      "text/plain": [
       "(tensor([[0.],\n",
       "         [1.],\n",
       "         [0.],\n",
       "         [1.],\n",
       "         [0.]]),\n",
       " tensor([[1.],\n",
       "         [0.],\n",
       "         [1.],\n",
       "         [0.],\n",
       "         [1.]]))"
      ]
     },
     "execution_count": 29,
     "metadata": {},
     "output_type": "execute_result"
    }
   ],
   "source": [
    "x[:5],y[:5]"
   ]
  },
  {
   "cell_type": "markdown",
   "id": "4e1e0f16-1002-4eb0-8d39-04ece366b2c6",
   "metadata": {},
   "source": [
    "`-` 학습 및 결과 시각화"
   ]
  },
  {
   "cell_type": "code",
   "execution_count": 30,
   "id": "b2e8b79d-6031-4e4e-a6f2-9304df4063fc",
   "metadata": {},
   "outputs": [],
   "source": [
    "net = torch.nn.Linear(in_features=1,out_features=1,bias=False)\n",
    "loss_fn = torch.nn.MSELoss()\n",
    "optimizr = torch.optim.Adam(net.parameters())"
   ]
  },
  {
   "cell_type": "code",
   "execution_count": 31,
   "id": "d7150914-376c-4fed-a1b1-e0e60f730556",
   "metadata": {},
   "outputs": [],
   "source": [
    "for epoc in range(5000):\n",
    "    ## 1\n",
    "    yhat = net(x) \n",
    "    ## 2 \n",
    "    loss = loss_fn(yhat,y)\n",
    "    ## 3 \n",
    "    loss.backward()\n",
    "    ## 4 \n",
    "    optimizr.step()\n",
    "    optimizr.zero_grad()"
   ]
  },
  {
   "cell_type": "code",
   "execution_count": 34,
   "id": "8db2a7d6-f6ad-47f0-9c72-34045c3901cd",
   "metadata": {},
   "outputs": [
    {
     "data": {
      "text/plain": [
       "[<matplotlib.lines.Line2D at 0x7f1d092c58d0>]"
      ]
     },
     "execution_count": 34,
     "metadata": {},
     "output_type": "execute_result"
    },
    {
     "data": {
      "image/png": "[encoded data removed]",
      "text/plain": [
       "<Figure size 432x288 with 1 Axes>"
      ]
     },
     "metadata": {
      "needs_background": "light"
     },
     "output_type": "display_data"
    }
   ],
   "source": [
    "plt.plot(y[:5],'o')\n",
    "plt.plot(net(x).data[:5])"
   ]
  },
  {
   "cell_type": "markdown",
   "id": "eee25950-93c6-4414-b1b9-1de6965c0d72",
   "metadata": {},
   "source": [
    "- 잘 학습이 안되었다. "
   ]
  },
  {
   "cell_type": "markdown",
   "id": "4767d990-a476-484e-a4b1-88244bcc0b7f",
   "metadata": {},
   "source": [
    "`-` 학습이 잘 안된 이유"
   ]
  },
  {
   "cell_type": "code",
   "execution_count": 35,
   "id": "4064af2b-5fd1-42cd-950d-892cbe15dd80",
   "metadata": {},
   "outputs": [
    {
     "data": {
      "text/html": [
       "<div>\n",
       "<style scoped>\n",
       "    .dataframe tbody tr th:only-of-type {\n",
       "        vertical-align: middle;\n",
       "    }\n",
       "\n",
       "    .dataframe tbody tr th {\n",
       "        vertical-align: top;\n",
       "    }\n",
       "\n",
       "    .dataframe thead th {\n",
       "        text-align: right;\n",
       "    }\n",
       "</style>\n",
       "<table border=\"1\" class=\"dataframe\">\n",
       "  <thead>\n",
       "    <tr style=\"text-align: right;\">\n",
       "      <th></th>\n",
       "      <th>x</th>\n",
       "      <th>y</th>\n",
       "    </tr>\n",
       "  </thead>\n",
       "  <tbody>\n",
       "    <tr>\n",
       "      <th>0</th>\n",
       "      <td>0.0</td>\n",
       "      <td>1.0</td>\n",
       "    </tr>\n",
       "    <tr>\n",
       "      <th>1</th>\n",
       "      <td>1.0</td>\n",
       "      <td>0.0</td>\n",
       "    </tr>\n",
       "    <tr>\n",
       "      <th>2</th>\n",
       "      <td>0.0</td>\n",
       "      <td>1.0</td>\n",
       "    </tr>\n",
       "    <tr>\n",
       "      <th>3</th>\n",
       "      <td>1.0</td>\n",
       "      <td>0.0</td>\n",
       "    </tr>\n",
       "    <tr>\n",
       "      <th>4</th>\n",
       "      <td>0.0</td>\n",
       "      <td>1.0</td>\n",
       "    </tr>\n",
       "  </tbody>\n",
       "</table>\n",
       "</div>"
      ],
      "text/plain": [
       "     x    y\n",
       "0  0.0  1.0\n",
       "1  1.0  0.0\n",
       "2  0.0  1.0\n",
       "3  1.0  0.0\n",
       "4  0.0  1.0"
      ]
     },
     "execution_count": 35,
     "metadata": {},
     "output_type": "execute_result"
    }
   ],
   "source": [
    "pd.DataFrame({'x':x[:5].reshape(-1),'y':y[:5].reshape(-1)})"
   ]
  },
  {
   "cell_type": "markdown",
   "id": "9a190f35-ebd9-44ba-bb19-5cc44bbc2038",
   "metadata": {},
   "source": [
    "현재 $\\hat{y}_i = \\hat{w}x_i$ 꼴의 아키텍처이고 $y_i \\approx \\hat{w}x_i$ 가 되는 적당한 $\\hat{w}$를 찾아야 하는 상황 \n",
    "- $(x_i,y_i)=(0,1)$ 이면 어떠한 $\\hat{w}$를 선택해도 $y_i \\approx \\hat{w}x_i$를 만드는 것이 불가능  \n",
    "- $(x_i,y_i)=(1,0)$ 이면 $\\hat{w}=0$일 경우 $y_i \\approx \\hat{w}x_i$로 만드는 것이 가능 \n",
    "\n",
    "상황을 종합해보니 $\\hat{w}=0$으로 학습되는 것이 그나마 최선 "
   ]
  },
  {
   "cell_type": "markdown",
   "id": "fa2bcfaf-a54e-4b74-9995-efd22de1e688",
   "metadata": {},
   "source": [
    "#### ***(풀이2) 1개의 파라메터 -- 성공, but 확장성이 없는 풀이***"
   ]
  },
  {
   "cell_type": "markdown",
   "id": "b7fbc885-b5d0-4405-a016-eed24b7c9601",
   "metadata": {},
   "source": [
    "`-` 0이라는 값이 문제가 되므로 인코딩방식의 변경"
   ]
  },
  {
   "cell_type": "code",
   "execution_count": 36,
   "id": "01784e97-2b06-4495-a028-ec7c129579a9",
   "metadata": {},
   "outputs": [],
   "source": [
    "x = torch.tensor(f(txt_x,{'a':-1,'b':1})).float().reshape(-1,1) \n",
    "y = torch.tensor(f(txt_y,{'a':-1,'b':1})).float().reshape(-1,1)"
   ]
  },
  {
   "cell_type": "code",
   "execution_count": 37,
   "id": "d968c60c-57c9-49a5-86ce-52cfa6a5bb3d",
   "metadata": {},
   "outputs": [
    {
     "data": {
      "text/plain": [
       "(tensor([[-1.],\n",
       "         [ 1.],\n",
       "         [-1.],\n",
       "         [ 1.],\n",
       "         [-1.]]),\n",
       " tensor([[ 1.],\n",
       "         [-1.],\n",
       "         [ 1.],\n",
       "         [-1.],\n",
       "         [ 1.]]))"
      ]
     },
     "execution_count": 37,
     "metadata": {},
     "output_type": "execute_result"
    }
   ],
   "source": [
    "x[:5],y[:5]"
   ]
  },
  {
   "cell_type": "code",
   "execution_count": 38,
   "id": "79441c58-1aff-4d51-83fe-46135843a68b",
   "metadata": {},
   "outputs": [],
   "source": [
    "net = torch.nn.Linear(in_features=1,out_features=1,bias=False)\n",
    "loss_fn = torch.nn.MSELoss()\n",
    "optimizr = torch.optim.Adam(net.parameters())"
   ]
  },
  {
   "cell_type": "code",
   "execution_count": 39,
   "id": "a33f2e8a-a7d6-4b47-8171-434c9e9aa48f",
   "metadata": {},
   "outputs": [],
   "source": [
    "for epoc in range(2000):\n",
    "    ## 1\n",
    "    yhat = net(x) \n",
    "    ## 2 \n",
    "    loss = loss_fn(yhat,y)\n",
    "    ## 3 \n",
    "    loss.backward()\n",
    "    ## 4 \n",
    "    optimizr.step()\n",
    "    optimizr.zero_grad()"
   ]
  },
  {
   "cell_type": "markdown",
   "id": "c2f78bf6-b848-4ec4-957e-e09c6262d0e8",
   "metadata": {},
   "source": [
    "`-` 결과는 성공"
   ]
  },
  {
   "cell_type": "code",
   "execution_count": 40,
   "id": "15f7c281-8fce-4b62-8ba8-af1e40ea5e7f",
   "metadata": {},
   "outputs": [
    {
     "data": {
      "text/plain": [
       "[<matplotlib.lines.Line2D at 0x7f1d09a98b10>]"
      ]
     },
     "execution_count": 40,
     "metadata": {},
     "output_type": "execute_result"
    },
    {
     "data": {
      "image/png": "[encoded data removed]",
      "text/plain": [
       "<Figure size 432x288 with 1 Axes>"
      ]
     },
     "metadata": {
      "needs_background": "light"
     },
     "output_type": "display_data"
    }
   ],
   "source": [
    "plt.plot(y[:5],'o')\n",
    "plt.plot(net(x).data[:5])"
   ]
  },
  {
   "cell_type": "markdown",
   "id": "b69a83a2-b2c5-4de8-9876-a7d9913ace5a",
   "metadata": {},
   "source": [
    "- 딱봐도 클래스가 3개일 경우 확장이 어려워 보인다. "
   ]
  },
  {
   "cell_type": "markdown",
   "id": "367c16d4-4ad9-4e3e-8a2c-e59ffbac13db",
   "metadata": {},
   "source": [
    "### 로지스틱 모형을 이용한 풀이"
   ]
  },
  {
   "cell_type": "markdown",
   "id": "5c273137-56f8-4128-8026-4e1a899de624",
   "metadata": {},
   "source": [
    "#### ***(풀이1) 1개의 파라메터 -- 실패***"
   ]
  },
  {
   "cell_type": "markdown",
   "id": "a96e8488-e275-483e-bff7-908ce64fbd9e",
   "metadata": {},
   "source": [
    "`-` 데이터를 다시 a=0, b=1로 정리"
   ]
  },
  {
   "cell_type": "code",
   "execution_count": 41,
   "id": "81773a8d-91b8-45f7-9d27-e6e741e1bb13",
   "metadata": {},
   "outputs": [],
   "source": [
    "mapping = {'a':0,'b':1}\n",
    "x = torch.tensor(f(txt_x,mapping)).float().reshape(-1,1)\n",
    "y = torch.tensor(f(txt_y,mapping)).float().reshape(-1,1)"
   ]
  },
  {
   "cell_type": "code",
   "execution_count": 42,
   "id": "512372fc-2a66-4361-8e99-428722bfa67b",
   "metadata": {},
   "outputs": [
    {
     "data": {
      "text/plain": [
       "(tensor([[0.],\n",
       "         [1.],\n",
       "         [0.],\n",
       "         [1.],\n",
       "         [0.]]),\n",
       " tensor([[1.],\n",
       "         [0.],\n",
       "         [1.],\n",
       "         [0.],\n",
       "         [1.]]))"
      ]
     },
     "execution_count": 42,
     "metadata": {},
     "output_type": "execute_result"
    }
   ],
   "source": [
    "x[:5],y[:5]"
   ]
  },
  {
   "cell_type": "markdown",
   "id": "46079ae6-c5b8-4895-b885-9f02980ab614",
   "metadata": {},
   "source": [
    "`-` 학습"
   ]
  },
  {
   "cell_type": "code",
   "execution_count": 43,
   "id": "6e4654a4-39bb-4b68-bfb7-10406da4557a",
   "metadata": {},
   "outputs": [],
   "source": [
    "net = torch.nn.Linear(in_features=1,out_features=1,bias=False)\n",
    "loss_fn = torch.nn.BCEWithLogitsLoss()\n",
    "optimizr = torch.optim.Adam(net.parameters())"
   ]
  },
  {
   "cell_type": "code",
   "execution_count": 44,
   "id": "0e8eda36-0bdf-4a66-b11e-8a54ffe047d5",
   "metadata": {},
   "outputs": [],
   "source": [
    "for epoc in range(5000):\n",
    "    ## 1\n",
    "    yhat = net(x) \n",
    "    ## 2 \n",
    "    loss = loss_fn(yhat,y)\n",
    "    ## 3 \n",
    "    loss.backward()\n",
    "    ## 4 \n",
    "    optimizr.step()\n",
    "    optimizr.zero_grad()"
   ]
  },
  {
   "cell_type": "markdown",
   "id": "544820cf-a1c9-4494-a3b4-828a5207fb3f",
   "metadata": {},
   "source": [
    "`-` 결과"
   ]
  },
  {
   "cell_type": "code",
   "execution_count": 45,
   "id": "2e7448e1-6c37-4da9-b2a5-e563e8f03f2a",
   "metadata": {},
   "outputs": [
    {
     "data": {
      "text/plain": [
       "[<matplotlib.lines.Line2D at 0x7f1d09222d90>]"
      ]
     },
     "execution_count": 45,
     "metadata": {},
     "output_type": "execute_result"
    },
    {
     "data": {
      "image/png": "[encoded data removed]",
      "text/plain": [
       "<Figure size 432x288 with 1 Axes>"
      ]
     },
     "metadata": {
      "needs_background": "light"
     },
     "output_type": "display_data"
    }
   ],
   "source": [
    "plt.plot(y[:10],'o')\n",
    "plt.plot(sig(net(x)).data[:10],'--o')"
   ]
  },
  {
   "cell_type": "markdown",
   "id": "c6730c3f-890e-4225-b097-7b3ef6e82b76",
   "metadata": {},
   "source": [
    "`-` 결과해석: 예상되었던 실패임 \n",
    "- 아키텍처는 $\\hat{y}_i = \\text{sig}(\\hat{w}x_i)$ 꼴이다. \n",
    "- $(x_i,y_i)=(0,1)$ 이라면 어떠한 $\\hat{w}$을 선택해도 $\\hat{w}x_i=0$ 이다. 이경우 $\\hat{y}_i = \\text{sig}(0) = 0.5$ 가 된다. \n",
    "- $(x_i,y_i)=(1,0)$ 이라면 $\\hat{w}=-5$와 같은 값으로 선택하면 $\\text{sig}(-5) \\approx 0 = y_i$ 와 같이 만들 수 있다. \n",
    "- 상황을 종합하면 net의 weight는 $\\text{sig}(\\hat{w}x_i) \\approx 0$ 이 되도록 적당한 음수로 학습되는 것이 최선임을 알 수 있다. "
   ]
  },
  {
   "cell_type": "code",
   "execution_count": 46,
   "id": "a647e4ef-7996-4483-92ca-4afc05da90c6",
   "metadata": {},
   "outputs": [
    {
     "data": {
      "text/plain": [
       "Parameter containing:\n",
       "tensor([[-3.5869]], requires_grad=True)"
      ]
     },
     "execution_count": 46,
     "metadata": {},
     "output_type": "execute_result"
    }
   ],
   "source": [
    "net.weight # 적당한 음수값으로 학습되어있음을 확인"
   ]
  },
  {
   "cell_type": "markdown",
   "id": "3bb65e4f-61db-4484-b84b-b33837cfc7cd",
   "metadata": {},
   "source": [
    "#### ***(풀이2) 2개의 파라메터 + 좋은 초기값 -- 성공***"
   ]
  },
  {
   "cell_type": "markdown",
   "id": "c723b306-c2d1-43cc-b27a-487918886a8c",
   "metadata": {},
   "source": [
    "`-` 동일하게 a=0, b=1로 맵핑"
   ]
  },
  {
   "cell_type": "code",
   "execution_count": 47,
   "id": "371121bb-aaeb-47c3-9f44-a93bf6ad1bfb",
   "metadata": {},
   "outputs": [],
   "source": [
    "mapping = {'a':0,'b':1}\n",
    "x = torch.tensor(f(txt_x,mapping)).float().reshape(-1,1)\n",
    "y = torch.tensor(f(txt_y,mapping)).float().reshape(-1,1)"
   ]
  },
  {
   "cell_type": "code",
   "execution_count": 48,
   "id": "479cf0a4-153d-4fc9-948f-a9e222aa4394",
   "metadata": {},
   "outputs": [
    {
     "data": {
      "text/plain": [
       "(tensor([[0.],\n",
       "         [1.],\n",
       "         [0.],\n",
       "         [1.],\n",
       "         [0.]]),\n",
       " tensor([[1.],\n",
       "         [0.],\n",
       "         [1.],\n",
       "         [0.],\n",
       "         [1.]]))"
      ]
     },
     "execution_count": 48,
     "metadata": {},
     "output_type": "execute_result"
    }
   ],
   "source": [
    "x[:5],y[:5]"
   ]
  },
  {
   "cell_type": "markdown",
   "id": "b1481132-e69c-473e-ae1f-58c96d8fff01",
   "metadata": {},
   "source": [
    "`-` 네트워크에서 bias를 넣기로 결정함 "
   ]
  },
  {
   "cell_type": "code",
   "execution_count": 49,
   "id": "45345a34-e370-4fab-8574-f5c1cfb848af",
   "metadata": {},
   "outputs": [],
   "source": [
    "net = torch.nn.Linear(in_features=1,out_features=1,bias=True)\n",
    "loss_fn = torch.nn.BCEWithLogitsLoss()\n",
    "optimizr = torch.optim.Adam(net.parameters())"
   ]
  },
  {
   "cell_type": "markdown",
   "id": "fb9456d9-232b-4e45-a88c-13b56c9a9f80",
   "metadata": {},
   "source": [
    "`-` net의 초기값을 설정 (이것은 좋은 초기값임)"
   ]
  },
  {
   "cell_type": "code",
   "execution_count": 50,
   "id": "b068c892-79d9-45c9-b807-9969959c4cfc",
   "metadata": {},
   "outputs": [],
   "source": [
    "net.weight.data = torch.tensor([[-5.00]])\n",
    "net.bias.data = torch.tensor([+2.500])"
   ]
  },
  {
   "cell_type": "code",
   "execution_count": 51,
   "id": "140bfd30-2264-4874-9dea-11eec603eb44",
   "metadata": {},
   "outputs": [
    {
     "data": {
      "text/plain": [
       "tensor([[ 2.5000],\n",
       "        [-2.5000],\n",
       "        [ 2.5000],\n",
       "        [-2.5000],\n",
       "        [ 2.5000],\n",
       "        [-2.5000],\n",
       "        [ 2.5000],\n",
       "        [-2.5000],\n",
       "        [ 2.5000],\n",
       "        [-2.5000]], grad_fn=<SliceBackward0>)"
      ]
     },
     "execution_count": 51,
     "metadata": {},
     "output_type": "execute_result"
    }
   ],
   "source": [
    "net(x)[:10]"
   ]
  },
  {
   "cell_type": "markdown",
   "id": "6dee0b1f-5f6e-46d5-8519-43131911a483",
   "metadata": {},
   "source": [
    "`-` 학습전 결과"
   ]
  },
  {
   "cell_type": "code",
   "execution_count": 52,
   "id": "dce3fd6d-6190-41f2-b179-9b4812afbf31",
   "metadata": {},
   "outputs": [
    {
     "data": {
      "text/plain": [
       "[<matplotlib.lines.Line2D at 0x7f1d09602690>]"
      ]
     },
     "execution_count": 52,
     "metadata": {},
     "output_type": "execute_result"
    },
    {
     "data": {
      "image/png": "[encoded data removed]",
      "text/plain": [
       "<Figure size 432x288 with 1 Axes>"
      ]
     },
     "metadata": {
      "needs_background": "light"
     },
     "output_type": "display_data"
    }
   ],
   "source": [
    "plt.plot(y[:10],'o')\n",
    "plt.plot(sig(net(x)).data[:10],'--o')"
   ]
  },
  {
   "cell_type": "markdown",
   "id": "0c340245-1125-410f-ac9a-8882d9ddf425",
   "metadata": {},
   "source": [
    "`-` 학습후결과"
   ]
  },
  {
   "cell_type": "code",
   "execution_count": 53,
   "id": "3ef90562-2118-4f0b-9de5-1fbc0ce573a9",
   "metadata": {},
   "outputs": [],
   "source": [
    "for epoc in range(5000):\n",
    "    ## 1\n",
    "    yhat = net(x) \n",
    "    ## 2 \n",
    "    loss = loss_fn(yhat,y)\n",
    "    ## 3 \n",
    "    loss.backward()\n",
    "    ## 4 \n",
    "    optimizr.step()\n",
    "    optimizr.zero_grad()"
   ]
  },
  {
   "cell_type": "code",
   "execution_count": 54,
   "id": "e0f8c849-5005-49ce-ae6b-de60e28d303a",
   "metadata": {},
   "outputs": [
    {
     "data": {
      "text/plain": [
       "[<matplotlib.lines.Line2D at 0x7f1d09a4e850>]"
      ]
     },
     "execution_count": 54,
     "metadata": {},
     "output_type": "execute_result"
    },
    {
     "data": {
      "image/png": "[encoded data removed]",
      "text/plain": [
       "<Figure size 432x288 with 1 Axes>"
      ]
     },
     "metadata": {
      "needs_background": "light"
     },
     "output_type": "display_data"
    }
   ],
   "source": [
    "plt.plot(y[:10],'o')\n",
    "plt.plot(sig(net(x)).data[:10],'--o')"
   ]
  },
  {
   "cell_type": "markdown",
   "id": "ccd9de11-7b8b-4837-9b38-ced73f094636",
   "metadata": {},
   "source": [
    "#### ***(풀이3) 2개의 파라메터 + 나쁜초기값 -- 성공***"
   ]
  },
  {
   "cell_type": "markdown",
   "id": "6603350e-8350-4eb2-9cbf-4cba86f74e4b",
   "metadata": {},
   "source": [
    "`-` a=0, b=1 "
   ]
  },
  {
   "cell_type": "code",
   "execution_count": 55,
   "id": "9c70484d-cded-47b1-8ce4-4678d97b2080",
   "metadata": {},
   "outputs": [],
   "source": [
    "mapping = {'a':0,'b':1}\n",
    "x = torch.tensor(f(txt_x,mapping)).float().reshape(-1,1)\n",
    "y = torch.tensor(f(txt_y,mapping)).float().reshape(-1,1)"
   ]
  },
  {
   "cell_type": "code",
   "execution_count": 56,
   "id": "9e396160-da57-48e3-88e8-2a822e7ff50c",
   "metadata": {},
   "outputs": [
    {
     "data": {
      "text/plain": [
       "(tensor([[0.],\n",
       "         [1.],\n",
       "         [0.],\n",
       "         [1.],\n",
       "         [0.]]),\n",
       " tensor([[1.],\n",
       "         [0.],\n",
       "         [1.],\n",
       "         [0.],\n",
       "         [1.]]))"
      ]
     },
     "execution_count": 56,
     "metadata": {},
     "output_type": "execute_result"
    }
   ],
   "source": [
    "x[:5],y[:5]"
   ]
  },
  {
   "cell_type": "markdown",
   "id": "304134b4-70e4-4dce-9d0b-3ef052dfb7ab",
   "metadata": {},
   "source": [
    "`-` 이전과 동일하게 바이어스가 포함된 네트워크 설정 "
   ]
  },
  {
   "cell_type": "code",
   "execution_count": 57,
   "id": "611103bf-177a-41f9-abaf-44eff857ba04",
   "metadata": {},
   "outputs": [],
   "source": [
    "net = torch.nn.Linear(in_features=1,out_features=1,bias=True)\n",
    "loss_fn = torch.nn.BCEWithLogitsLoss()\n",
    "optimizr = torch.optim.Adam(net.parameters())"
   ]
  },
  {
   "cell_type": "markdown",
   "id": "ba9a78fc-864e-4041-92de-99f7adb43404",
   "metadata": {},
   "source": [
    "`-` 초기값설정 (이 초기값은 나쁜 초기값임)"
   ]
  },
  {
   "cell_type": "code",
   "execution_count": 58,
   "id": "586cddc3-5703-4699-a929-10c132e34a7b",
   "metadata": {},
   "outputs": [],
   "source": [
    "net.weight.data = torch.tensor([[+5.00]])\n",
    "net.bias.data = torch.tensor([-2.500])"
   ]
  },
  {
   "cell_type": "code",
   "execution_count": 59,
   "id": "48fdc2d5-b1d3-48f7-a629-4c8666f20cae",
   "metadata": {},
   "outputs": [
    {
     "data": {
      "text/plain": [
       "tensor([[-2.5000],\n",
       "        [ 2.5000],\n",
       "        [-2.5000],\n",
       "        [ 2.5000],\n",
       "        [-2.5000],\n",
       "        [ 2.5000],\n",
       "        [-2.5000],\n",
       "        [ 2.5000],\n",
       "        [-2.5000],\n",
       "        [ 2.5000]], grad_fn=<SliceBackward0>)"
      ]
     },
     "execution_count": 59,
     "metadata": {},
     "output_type": "execute_result"
    }
   ],
   "source": [
    "net(x)[:10]"
   ]
  },
  {
   "cell_type": "markdown",
   "id": "e6bd4315-3d0c-4c73-acd5-3028dda6e1ba",
   "metadata": {},
   "source": [
    "`-` 학습전상태: 반대모양으로 되어있다. "
   ]
  },
  {
   "cell_type": "code",
   "execution_count": 60,
   "id": "d445dade-9e35-4d6f-b4b6-66b8eecd42ec",
   "metadata": {},
   "outputs": [
    {
     "data": {
      "text/plain": [
       "[<matplotlib.lines.Line2D at 0x7f1d09055a50>]"
      ]
     },
     "execution_count": 60,
     "metadata": {},
     "output_type": "execute_result"
    },
    {
     "data": {
      "image/png": "[encoded data removed]",
      "text/plain": [
       "<Figure size 432x288 with 1 Axes>"
      ]
     },
     "metadata": {
      "needs_background": "light"
     },
     "output_type": "display_data"
    }
   ],
   "source": [
    "plt.plot(y[:10],'o')\n",
    "plt.plot(sig(net(x)).data[:10],'--o')"
   ]
  },
  {
   "cell_type": "markdown",
   "id": "c46b72cc-0377-44d9-9ade-0164143e0909",
   "metadata": {},
   "source": [
    "`-` 학습"
   ]
  },
  {
   "cell_type": "code",
   "execution_count": 61,
   "id": "aa6495fe-fc26-485d-9f16-74c6929b7315",
   "metadata": {},
   "outputs": [],
   "source": [
    "for epoc in range(5000):\n",
    "    ## 1\n",
    "    yhat = net(x) \n",
    "    ## 2 \n",
    "    loss = loss_fn(yhat,y)\n",
    "    ## 3 \n",
    "    loss.backward()\n",
    "    ## 4 \n",
    "    optimizr.step()\n",
    "    optimizr.zero_grad()"
   ]
  },
  {
   "cell_type": "code",
   "execution_count": 62,
   "id": "84794892-38b9-4e32-b393-0ccc87635f4a",
   "metadata": {},
   "outputs": [
    {
     "data": {
      "text/plain": [
       "[<matplotlib.lines.Line2D at 0x7f1d08825c50>]"
      ]
     },
     "execution_count": 62,
     "metadata": {},
     "output_type": "execute_result"
    },
    {
     "data": {
      "image/png": "[encoded data removed]",
      "text/plain": [
       "<Figure size 432x288 with 1 Axes>"
      ]
     },
     "metadata": {
      "needs_background": "light"
     },
     "output_type": "display_data"
    }
   ],
   "source": [
    "plt.plot(y[:10],'o')\n",
    "plt.plot(sig(net(x)).data[:10],'--o')"
   ]
  },
  {
   "cell_type": "markdown",
   "id": "d280e2ec-94c9-466d-866a-f88d3fe4d1c9",
   "metadata": {},
   "source": [
    "- 결국 수렴하긴 할듯 "
   ]
  },
  {
   "cell_type": "markdown",
   "id": "2fdafdde-6fb8-4448-bc29-1915c3e69990",
   "metadata": {},
   "source": [
    "#### ***(풀이4) 3개의 파라메터를 쓴다면?***"
   ]
  },
  {
   "cell_type": "markdown",
   "id": "ce3c1cd4-48f7-4e31-b991-a870d57fa070",
   "metadata": {},
   "source": [
    "`-` a=0, b=1로 코딩 "
   ]
  },
  {
   "cell_type": "code",
   "execution_count": 63,
   "id": "c62dc63b-f7e0-4fe0-b0d0-b7b02cdfec5d",
   "metadata": {},
   "outputs": [],
   "source": [
    "mapping = {'a':0,'b':1}\n",
    "x = torch.tensor(f(txt_x,mapping)).float().reshape(-1,1)\n",
    "y = torch.tensor(f(txt_y,mapping)).float().reshape(-1,1)"
   ]
  },
  {
   "cell_type": "code",
   "execution_count": 64,
   "id": "30f06e15-6138-4cc1-affa-639435c7d085",
   "metadata": {},
   "outputs": [
    {
     "data": {
      "text/plain": [
       "(tensor([[0.],\n",
       "         [1.],\n",
       "         [0.],\n",
       "         [1.],\n",
       "         [0.]]),\n",
       " tensor([[1.],\n",
       "         [0.],\n",
       "         [1.],\n",
       "         [0.],\n",
       "         [1.]]))"
      ]
     },
     "execution_count": 64,
     "metadata": {},
     "output_type": "execute_result"
    }
   ],
   "source": [
    "x[:5],y[:5]"
   ]
  },
  {
   "cell_type": "markdown",
   "id": "fbdcbc72-8ff5-4f0d-a785-ba31c29da603",
   "metadata": {},
   "source": [
    "`-` 3개의 파라메터를 사용하기 위해서 아래와 같은 구조를 생각하자. \n",
    "\n",
    "```Python\n",
    "torch.nn.Sequential(\n",
    "    torch.nn.Linear(in_features=1,out_features=1,bias=True),\n",
    "    torch.nn.ACTIVATION_FUNCTION(),\n",
    "    torch.nn.Linear(in_features=1,out_features=1,bias=False)\n",
    ")\n",
    "````\n",
    "\n",
    "위와 같은 네트워크를 설정하면 3개의 파라메터를 사용할 수 있다. 적절한 ACTIVATION_FUNCTION을 골라야 하는데 실험적으로 tanh가 적절하다고 알려져있다. ($\\to$ 그래서 우리도 실험적으로 이해해보자)"
   ]
  },
  {
   "cell_type": "markdown",
   "id": "eec2c393-6827-40e2-ac3a-f93932f689be",
   "metadata": {},
   "source": [
    "--- "
   ]
  },
  {
   "cell_type": "markdown",
   "id": "9b80d9b9-7ec4-44fb-ae10-0dda185adea4",
   "metadata": {},
   "source": [
    "(예비학습1) net(x)와 사실 net.forwardx(x)는 같다. "
   ]
  },
  {
   "cell_type": "code",
   "execution_count": 65,
   "id": "c0135738-6864-48fd-bdef-e2ab8db9ff99",
   "metadata": {},
   "outputs": [
    {
     "data": {
      "text/plain": [
       "tensor([[-0.1584],\n",
       "        [ 0.1797],\n",
       "        [-0.1584],\n",
       "        [ 0.1797],\n",
       "        [-0.1584]], grad_fn=<SliceBackward0>)"
      ]
     },
     "execution_count": 65,
     "metadata": {},
     "output_type": "execute_result"
    }
   ],
   "source": [
    "net(x)[:5] # 풀이3에서 학습한 네트워크임"
   ]
  },
  {
   "cell_type": "code",
   "execution_count": 66,
   "id": "d9db661f-0b7e-4dc8-82d6-941d691bf280",
   "metadata": {},
   "outputs": [
    {
     "data": {
      "text/plain": [
       "tensor([[-0.1584],\n",
       "        [ 0.1797],\n",
       "        [-0.1584],\n",
       "        [ 0.1797],\n",
       "        [-0.1584]], grad_fn=<SliceBackward0>)"
      ]
     },
     "execution_count": 66,
     "metadata": {},
     "output_type": "execute_result"
    }
   ],
   "source": [
    "net.forward(x)[:5] # 풀이3에서 학습한 네트워크임"
   ]
  },
  {
   "cell_type": "markdown",
   "id": "c2a68be2-4775-4b28-9a24-8cd92ccae06c",
   "metadata": {},
   "source": [
    "그래서 net.forward를 재정의하면 net(x)의 기능을 재정의 할 수 있다. "
   ]
  },
  {
   "cell_type": "code",
   "execution_count": 74,
   "id": "50fc96b1-5b7e-4618-929e-207a28be0884",
   "metadata": {},
   "outputs": [],
   "source": [
    "net.forward = lambda x: 1 "
   ]
  },
  {
   "cell_type": "markdown",
   "id": "d7d77309-6f57-46d4-9a34-5c84138390da",
   "metadata": {},
   "source": [
    "- \"lambda x: 1\" 은 입력이 x 출력이 1인 함수를 의미 (즉 입력값에 상관없이 항상 1을 출력하는 함수) \n",
    "- \"net.forward = lambda x:1\" 이라고 새롭게 선언하였므로 앞으론 net.forward(x), net(x) 도 입력값에 상관없이 항상 1을 출력하게 될 것임 "
   ]
  },
  {
   "cell_type": "code",
   "execution_count": 77,
   "id": "f40c46a0-837a-430a-9614-87aa4813327b",
   "metadata": {},
   "outputs": [
    {
     "data": {
      "text/plain": [
       "1"
      ]
     },
     "execution_count": 77,
     "metadata": {},
     "output_type": "execute_result"
    }
   ],
   "source": [
    "net(x)"
   ]
  },
  {
   "cell_type": "markdown",
   "id": "79cb63c4-8d61-4c29-924f-11f75390fc16",
   "metadata": {},
   "source": [
    "(예비학습2) torch.nn.Module을 상속받아서 네트워크를 만들면 (= \"class XXX(torch.nn.Module):\" 와 같은 방식으로 클래스를 선언하면) 약속된 아키텍처를 가진 네트워크를 찍어내는 함수를 만들 수 있다. "
   ]
  },
  {
   "cell_type": "markdown",
   "id": "80870010-6a36-40e6-9c92-4fedb3e480d9",
   "metadata": {},
   "source": [
    "(예시1)"
   ]
  },
  {
   "cell_type": "code",
   "execution_count": 99,
   "id": "4f162a11-ac70-4c10-a97d-a2129fc35464",
   "metadata": {},
   "outputs": [],
   "source": [
    "class Mynet1(torch.nn.Module):\n",
    "    def __init__(self):\n",
    "        super().__init__()\n",
    "        self.l1 = torch.nn.Linear(in_features=1,out_features=1,bias=True)\n",
    "        self.a1 = torch.nn.Sigmoid()\n",
    "        self.l2 = torch.nn.Linear(in_features=1,out_features=1,bias=False)\n",
    "    def forward(self,x):        \n",
    "        yhat = self.l2(self.a1(self.l1(x)))\n",
    "        return yhat"
   ]
  },
  {
   "cell_type": "markdown",
   "id": "6205d11c-9300-445c-80f0-33ec9768fd29",
   "metadata": {},
   "source": [
    "이제 \n",
    "```Python\n",
    "net = Mynet1()\n",
    "```\n",
    "는 아래와 같은 효과를 가진다. \n",
    "```Python\n",
    "net = torch.nn.Sequential(\n",
    "    torch.nn.Linear(in_features=1,out_features=1,bias=True),\n",
    "    torch.nn.Sigmoid(),\n",
    "    torch.nn.Linear(in_features=1,out_features=1,bias=False)\n",
    ")\n",
    "```"
   ]
  },
  {
   "cell_type": "markdown",
   "id": "947ce5b1-7c1b-4865-8b53-b850ba1da09f",
   "metadata": {},
   "source": [
    "(예시2)"
   ]
  },
  {
   "cell_type": "code",
   "execution_count": 103,
   "id": "70f4d1df-e484-42dc-91ed-c397576c062f",
   "metadata": {},
   "outputs": [],
   "source": [
    "class Mynet2(torch.nn.Module):\n",
    "    def __init__(self):\n",
    "        super().__init__()\n",
    "        self.l1 = torch.nn.Linear(in_features=1,out_features=1,bias=True)\n",
    "        self.a1 = torch.nn.ReLU()\n",
    "        self.l2 = torch.nn.Linear(in_features=1,out_features=1,bias=False)\n",
    "    def forward(self,x):\n",
    "        yhat = self.l2(self.a1(self.l1(x)))\n",
    "        return yhat"
   ]
  },
  {
   "cell_type": "markdown",
   "id": "3047e6e7-5820-4c24-8723-9d31e19b0224",
   "metadata": {},
   "source": [
    "이제 \n",
    "```Python\n",
    "net = Mynet2()\n",
    "```\n",
    "는 아래와 같은 효과를 가진다. \n",
    "```Python\n",
    "net = torch.nn.Sequential(\n",
    "    torch.nn.Linear(in_features=1,out_features=1,bias=True),\n",
    "    torch.nn.RuLU(),\n",
    "    torch.nn.Linear(in_features=1,out_features=1,bias=False)\n",
    ")\n",
    "```"
   ]
  },
  {
   "cell_type": "markdown",
   "id": "abff4654-2ae0-4e0a-a508-95229807aec3",
   "metadata": {},
   "source": [
    "(예시3)"
   ]
  },
  {
   "cell_type": "code",
   "execution_count": 104,
   "id": "90a7a3a1-546e-4788-b44b-0173e849ba5b",
   "metadata": {},
   "outputs": [],
   "source": [
    "class Mynet3(torch.nn.Module):\n",
    "    def __init__(self):\n",
    "        super().__init__()\n",
    "        self.l1 = torch.nn.Linear(in_features=1,out_features=1,bias=True)\n",
    "        self.a1 = torch.nn.Tanh()\n",
    "        self.l2 = torch.nn.Linear(in_features=1,out_features=1,bias=False)\n",
    "    def forward(self,x):\n",
    "        yhat = self.l2(self.a1(self.l1(x)))\n",
    "        return yhat"
   ]
  },
  {
   "cell_type": "markdown",
   "id": "0a8037e1-cd85-4ae4-b1af-540d017f4808",
   "metadata": {},
   "source": [
    "이제 \n",
    "```Python\n",
    "net = Mynet3()\n",
    "```\n",
    "는 아래와 같은 효과를 가진다. \n",
    "```Python\n",
    "net = torch.nn.Sequential(\n",
    "    torch.nn.Linear(in_features=1,out_features=1,bias=True),\n",
    "    torch.nn.Tanh(),\n",
    "    torch.nn.Linear(in_features=1,out_features=1,bias=False)\n",
    ")\n",
    "```"
   ]
  },
  {
   "cell_type": "markdown",
   "id": "1e0b5d20-c066-4cad-8df8-23ee5d9b95e8",
   "metadata": {},
   "source": [
    "***클래스에 대한 이해가 부족한 학생을 위한 암기방법***"
   ]
  },
  {
   "cell_type": "markdown",
   "id": "f2c6008d-2914-42eb-8f42-8a4c7f8e7af8",
   "metadata": {},
   "source": [
    "**step1:** 아래와 코드를 복사하여 틀을 만든다. (이건 무조건 고정임, XXXX 자리는 원하는 이름을 넣는다) \n",
    "\n",
    "```Python\n",
    "class XXXX(torch.nn.Module):\n",
    "    def __init__(self):\n",
    "        super().__init__()\n",
    "        ## 우리가 사용할 레이어를 정의 \n",
    "        \n",
    "        ## 레이어 정의 끝\n",
    "    def forward(self,x):\n",
    "        ## yhat을 어떻게 구할것인지 정의 \n",
    "        \n",
    "        ## 정의 끝\n",
    "        return yhat\n",
    "```"
   ]
  },
  {
   "cell_type": "markdown",
   "id": "67a03a63-9284-4a29-8af4-6d193ccaf0e4",
   "metadata": {},
   "source": [
    "- net(x)에 사용하는 x임, yhat은 net.forward(x) 함수의 리턴값임 \n",
    "- 사실, x/yhat은 다른 변수로 써도 무방하나 (예를들면 input/output 이라든지) 설명의 편의상 x와 yhat을 고정한다. "
   ]
  },
  {
   "cell_type": "markdown",
   "id": "d3c414dc-6ea5-4343-b483-a20ce305a42f",
   "metadata": {},
   "source": [
    "**step2:** `def __init__(self):`에 사용할 레이어를 정의하고 이름을 붙인다. 이름은 항상 `self.xxx` 와 같은 식으로 정의한다. \n",
    "\n",
    "```Python\n",
    "class XXXX(torch.nn.Module):\n",
    "    def __init__(self):\n",
    "        super().__init__()\n",
    "        ## 우리가 사용할 레이어를 정의 \n",
    "        self.xxx1 = torch.nn.Linear(in_features=1,out_features=1,bias=True)\n",
    "        self.xxx2 = torch.nn.Tanh()\n",
    "        self.xxx3 = torch.nn.Linear(in_features=1,out_features=1,bias=True)\n",
    "        ## 레이어 정의 끝\n",
    "    def forward(self,x):\n",
    "        ## yhat을 어떻게 구할것인지 정의 \n",
    "        \n",
    "        ## 정의 끝\n",
    "        return yhat\n",
    "```"
   ]
  },
  {
   "cell_type": "markdown",
   "id": "e3fab8ef-75c9-41be-a032-f54e9ff5b2fc",
   "metadata": {},
   "source": [
    "**step3:** `def forward:`에 \"x --> yhat\" 으로 가는 과정을 묘사한 코드를 작성하고 yhat을 리턴하도록 한다. \n",
    "\n",
    "```Python\n",
    "class XXXX(torch.nn.Module):\n",
    "    def __init__(self):\n",
    "        super().__init__()\n",
    "        ## 우리가 사용할 레이어를 정의 \n",
    "        self.xxx1 = torch.nn.Linear(in_features=1,out_features=1,bias=True)\n",
    "        self.xxx2 = torch.nn.Tanh()\n",
    "        self.xxx3 = torch.nn.Linear(in_features=1,out_features=1,bias=True)\n",
    "        ## 레이어 정의 끝\n",
    "    def forward(self,x):\n",
    "        ## yhat을 어떻게 구할것인지 정의 \n",
    "        u = self.xxx1(x) \n",
    "        v = self.xxx2(u)\n",
    "        yhat = self.xxx3(v) \n",
    "        ## 정의 끝\n",
    "        return yhat\n",
    "```"
   ]
  },
  {
   "cell_type": "markdown",
   "id": "6e3fb663-db4c-49b2-a16a-81dc29738bd8",
   "metadata": {},
   "source": [
    "예비학습 끝 "
   ]
  },
  {
   "cell_type": "markdown",
   "id": "0ca54825-5f79-41d7-af95-bf9d57e6b299",
   "metadata": {},
   "source": [
    "--- "
   ]
  },
  {
   "cell_type": "markdown",
   "id": "93152af3-0b62-43de-86ab-b5d818d58724",
   "metadata": {},
   "source": [
    "`-` 우리가 하려고 했던 것: 아래의 아키텍처에서 \n",
    "```Python\n",
    "torch.nn.Sequential(\n",
    "    torch.nn.Linear(in_features=1,out_features=1,bias=True),\n",
    "    torch.nn.ACTIVATION_FUNCTION(),\n",
    "    torch.nn.Linear(in_features=1,out_features=1,bias=False)\n",
    ")\n",
    "```\n",
    "ACTIVATION의 자리에 tanh가 왜 적절한지 직관을 얻어보자. "
   ]
  },
  {
   "cell_type": "markdown",
   "id": "7354bc0c-0eff-4309-9525-10d2b92a7fab",
   "metadata": {},
   "source": [
    "`-` 실험결과1(Sig): Sigmoid activation을 포함한 아키텍처로 학습시킨 25개의 적합결과"
   ]
  },
  {
   "cell_type": "code",
   "execution_count": 100,
   "id": "d1e5a7f1-5f43-45d7-ab91-93d6e84605d8",
   "metadata": {},
   "outputs": [
    {
     "data": {
      "image/png": "[encoded data removed]",
      "text/plain": [
       "<Figure size 720x720 with 25 Axes>"
      ]
     },
     "metadata": {
      "needs_background": "light"
     },
     "output_type": "display_data"
    }
   ],
   "source": [
    "fig, ax = plt.subplots(5,5,figsize=(10,10))\n",
    "for i in range(5):\n",
    "    for j in range(5):\n",
    "        net = Mynet1()\n",
    "        loss_fn = torch.nn.BCEWithLogitsLoss()\n",
    "        optimizr = torch.optim.Adam(net.parameters())\n",
    "        for epoc in range(1000):\n",
    "            ## 1\n",
    "            yhat = net(x)\n",
    "            ## 2\n",
    "            loss = loss_fn(yhat,y)\n",
    "            ## 3\n",
    "            loss.backward()\n",
    "            ## 4 \n",
    "            optimizr.step()\n",
    "            optimizr.zero_grad()\n",
    "        ax[i][j].plot(y[:5],'o')\n",
    "        ax[i][j].plot(sig(net(x[:5])).data,'--o')\n",
    "fig.suptitle(r\"$a_1(x):=Sigmoid(x)$\",size=20)\n",
    "fig.tight_layout()"
   ]
  },
  {
   "cell_type": "markdown",
   "id": "f43431a6-f3f0-47a5-97a0-c47681ebc3ee",
   "metadata": {},
   "source": [
    "`-` 실험결과2(ReLU): RuLU activation을 포함한 아키텍처로 학습시킨 25개의 적합결과"
   ]
  },
  {
   "cell_type": "code",
   "execution_count": 105,
   "id": "52392546-c7c6-45a5-be50-86c602c44442",
   "metadata": {},
   "outputs": [
    {
     "data": {
      "image/png": "[encoded data removed]",
      "text/plain": [
       "<Figure size 720x720 with 25 Axes>"
      ]
     },
     "metadata": {
      "needs_background": "light"
     },
     "output_type": "display_data"
    }
   ],
   "source": [
    "fig, ax = plt.subplots(5,5,figsize=(10,10))\n",
    "for i in range(5):\n",
    "    for j in range(5):\n",
    "        net = Mynet2()\n",
    "        loss_fn = torch.nn.BCEWithLogitsLoss()\n",
    "        optimizr = torch.optim.Adam(net.parameters())\n",
    "        for epoc in range(1000):\n",
    "            ## 1\n",
    "            yhat = net(x)\n",
    "            ## 2\n",
    "            loss = loss_fn(yhat,y)\n",
    "            ## 3\n",
    "            loss.backward()\n",
    "            ## 4 \n",
    "            optimizr.step()\n",
    "            optimizr.zero_grad()\n",
    "        ax[i][j].plot(y[:5],'o')\n",
    "        ax[i][j].plot(sig(net(x[:5])).data,'--o')\n",
    "fig.suptitle(r\"$a_2(x):=ReLU(x)$\",size=20)\n",
    "fig.tight_layout()"
   ]
  },
  {
   "cell_type": "markdown",
   "id": "31f66479-752a-4792-8edd-5422cd92d792",
   "metadata": {},
   "source": [
    "`-` 실험결과3(Tanh): Tanh activation을 포함한 아키텍처로 학습시킨 25개의 적합결과"
   ]
  },
  {
   "cell_type": "code",
   "execution_count": 106,
   "id": "921b3bda-0678-4366-b2b4-f8ba1e3b008d",
   "metadata": {},
   "outputs": [
    {
     "data": {
      "image/png": "[encoded data removed]",
      "text/plain": [
       "<Figure size 720x720 with 25 Axes>"
      ]
     },
     "metadata": {
      "needs_background": "light"
     },
     "output_type": "display_data"
    }
   ],
   "source": [
    "fig, ax = plt.subplots(5,5,figsize=(10,10))\n",
    "for i in range(5):\n",
    "    for j in range(5):\n",
    "        net = Mynet3()\n",
    "        loss_fn = torch.nn.BCEWithLogitsLoss()\n",
    "        optimizr = torch.optim.Adam(net.parameters())\n",
    "        for epoc in range(1000):\n",
    "            ## 1\n",
    "            yhat = net(x)\n",
    "            ## 2\n",
    "            loss = loss_fn(yhat,y)\n",
    "            ## 3\n",
    "            loss.backward()\n",
    "            ## 4 \n",
    "            optimizr.step()\n",
    "            optimizr.zero_grad()\n",
    "        ax[i][j].plot(y[:5],'o')\n",
    "        ax[i][j].plot(sig(net(x[:5])).data,'--o')\n",
    "fig.suptitle(r\"$a_2(x):=Tanh(x)$\",size=20)        \n",
    "fig.tight_layout()"
   ]
  },
  {
   "cell_type": "markdown",
   "id": "6ae93dd9-ad15-43bd-95d2-487058a7d5ae",
   "metadata": {},
   "source": [
    "`-` 실험해석\n",
    "- sig: 주황색선의 변동폭이 작음 + 항상 0.5근처로 머무는 적합값이 존재 \n",
    "- relu: 주황색선의 변동폭이 큼 + 항상 0.5근처로 머무는 적합값이 존재 \n",
    "- tanh: 주황색선의 변동폭이 큼 + 0.5근처로 머무는 적합값이 존재X"
   ]
  },
  {
   "cell_type": "markdown",
   "id": "0bfd05d0-cbc3-4300-91d5-4f7e9602ddb6",
   "metadata": {},
   "source": [
    "`-` 실험해보니까 tanh가 우수한것 같다. $\\to$ 앞으로는 tanh를 쓰자. "
   ]
  },
  {
   "cell_type": "markdown",
   "id": "9faf722a-a953-40f2-b997-761dc0cec0db",
   "metadata": {},
   "source": [
    "### 소프트맥스로 확장"
   ]
  },
  {
   "cell_type": "markdown",
   "id": "38fb5c72-9ca2-4fb7-8008-b6106b53ca91",
   "metadata": {},
   "source": [
    "#### (풀이1) 로지스틱모형에서 3개의 파라메터 버전을 그대로 확장 "
   ]
  },
  {
   "cell_type": "code",
   "execution_count": 107,
   "id": "291734a9-9c8b-48b2-abaf-99007f2b9140",
   "metadata": {},
   "outputs": [
    {
     "data": {
      "text/plain": [
       "(tensor([[1., 0.],\n",
       "         [0., 1.],\n",
       "         [1., 0.],\n",
       "         [0., 1.],\n",
       "         [1., 0.]]),\n",
       " tensor([[0., 1.],\n",
       "         [1., 0.],\n",
       "         [0., 1.],\n",
       "         [1., 0.],\n",
       "         [0., 1.]]))"
      ]
     },
     "execution_count": 107,
     "metadata": {},
     "output_type": "execute_result"
    }
   ],
   "source": [
    "mapping = {'a':[1,0],'b':[0,1]}\n",
    "x = torch.tensor(f(txt_x,mapping)).float().reshape(-1,2)\n",
    "y = torch.tensor(f(txt_y,mapping)).float().reshape(-1,2)\n",
    "x[:5],y[:5]"
   ]
  },
  {
   "cell_type": "code",
   "execution_count": 108,
   "id": "38564446-4fe9-4b8d-b334-289f6e9e672c",
   "metadata": {},
   "outputs": [],
   "source": [
    "net = torch.nn.Sequential(\n",
    "    torch.nn.Linear(in_features=2,out_features=1),\n",
    "    torch.nn.Tanh(),\n",
    "    torch.nn.Linear(in_features=1,out_features=2,bias=False)\n",
    ")\n",
    "loss_fn = torch.nn.CrossEntropyLoss()\n",
    "optimizr = torch.optim.Adam(net.parameters())"
   ]
  },
  {
   "cell_type": "code",
   "execution_count": 109,
   "id": "b269ac28-2825-460d-81d8-b37f6ea0178d",
   "metadata": {},
   "outputs": [],
   "source": [
    "for epoc in range(5000):\n",
    "    ## 1\n",
    "    yhat = net(x)\n",
    "    ## 2 \n",
    "    loss = loss_fn(yhat,y)\n",
    "    ## 3 \n",
    "    loss.backward()\n",
    "    ## 4 \n",
    "    optimizr.step()\n",
    "    optimizr.zero_grad()"
   ]
  },
  {
   "cell_type": "code",
   "execution_count": 122,
   "id": "b85ed162-2250-4e24-b55d-062d217d66f6",
   "metadata": {},
   "outputs": [
    {
     "data": {
      "text/plain": [
       "[<matplotlib.lines.Line2D at 0x7f1d086f5290>]"
      ]
     },
     "execution_count": 122,
     "metadata": {},
     "output_type": "execute_result"
    },
    {
     "data": {
      "image/png": "[encoded data removed]",
      "text/plain": [
       "<Figure size 432x288 with 1 Axes>"
      ]
     },
     "metadata": {
      "needs_background": "light"
     },
     "output_type": "display_data"
    }
   ],
   "source": [
    "plt.plot(y[:5][:,1],'o')\n",
    "plt.plot(soft(net(x[:5]))[:,1].data,'--r')"
   ]
  },
  {
   "cell_type": "code",
   "execution_count": 124,
   "id": "143abd08-4c11-4816-89a9-87515db62d6e",
   "metadata": {},
   "outputs": [
    {
     "data": {
      "text/plain": [
       "<matplotlib.image.AxesImage at 0x7f1d0380ee90>"
      ]
     },
     "execution_count": 124,
     "metadata": {},
     "output_type": "execute_result"
    },
    {
     "data": {
      "image/png": "[encoded data removed]",
      "text/plain": [
       "<Figure size 432x288 with 2 Axes>"
      ]
     },
     "metadata": {
      "needs_background": "light"
     },
     "output_type": "display_data"
    }
   ],
   "source": [
    "fig,ax = plt.subplots(1,2)\n",
    "ax[0].imshow(y[:5])\n",
    "ax[1].imshow(soft(net(x[:5])).data)"
   ]
  },
  {
   "cell_type": "markdown",
   "id": "6c5f3822-4de7-46d8-b264-f3e60474ca84",
   "metadata": {},
   "source": [
    "## Embedding Layer"
   ]
  },
  {
   "cell_type": "markdown",
   "id": "ca73e51b-6ab1-4d29-bf98-53c61b6709c0",
   "metadata": {},
   "source": [
    "### motive"
   ]
  },
  {
   "cell_type": "markdown",
   "id": "5525bd18-ea31-41a9-8c49-489b1cebfeab",
   "metadata": {},
   "source": [
    "`-` 결국 최종적으로는 아래와 같은 맵핑방식이 확장성이 있어보인다. "
   ]
  },
  {
   "cell_type": "code",
   "execution_count": 61,
   "id": "90fce7cb-9e81-4874-b68c-a1ca3982e2bd",
   "metadata": {},
   "outputs": [],
   "source": [
    "mapping = {'a':[1,0,0],'b':[0,1,0],'c':[0,0,1]} # 원핫인코딩 방식 "
   ]
  },
  {
   "cell_type": "markdown",
   "id": "75a9b96d-5ca3-4db7-8238-467392d8a02e",
   "metadata": {},
   "source": [
    "`-` 그런데 매번 $X$를 원핫인코딩하고 Linear 변환하는것이 번거로운데 이를 한번에 구현하는 함수가 있으면 좋겠다. $\\to$ torch.nn.Embedding Layer가 그 역할을 한다. "
   ]
  },
  {
   "cell_type": "code",
   "execution_count": 125,
   "id": "12689036-7678-4040-bace-6292a003c267",
   "metadata": {},
   "outputs": [
    {
     "data": {
      "text/plain": [
       "(tensor([0, 1, 2, 0, 1]), tensor([1, 2, 0, 1, 2]))"
      ]
     },
     "execution_count": 125,
     "metadata": {},
     "output_type": "execute_result"
    }
   ],
   "source": [
    "mapping = {'a':0,'b':1,'c':2}\n",
    "x = torch.tensor(f(list('abc')*100,mapping))\n",
    "y = torch.tensor(f(list('bca')*100,mapping))\n",
    "x[:5],y[:5]"
   ]
  },
  {
   "cell_type": "code",
   "execution_count": 126,
   "id": "6bad88a6-6773-46e9-9eca-07895a22edee",
   "metadata": {},
   "outputs": [],
   "source": [
    "torch.manual_seed(43052)\n",
    "ebdd = torch.nn.Embedding(num_embeddings=3,embedding_dim=1)"
   ]
  },
  {
   "cell_type": "code",
   "execution_count": 127,
   "id": "33875fb4-1bdd-4f09-ba46-6bafb812652c",
   "metadata": {},
   "outputs": [
    {
     "data": {
      "text/plain": [
       "tensor([[-0.8178],\n",
       "        [-0.7052],\n",
       "        [-0.5843],\n",
       "        [-0.8178],\n",
       "        [-0.7052]], grad_fn=<SliceBackward0>)"
      ]
     },
     "execution_count": 127,
     "metadata": {},
     "output_type": "execute_result"
    }
   ],
   "source": [
    "ebdd(x)[:5]"
   ]
  },
  {
   "cell_type": "markdown",
   "id": "8d2e2a96-a7ec-4a09-a308-30000153b1d8",
   "metadata": {},
   "source": [
    "`-` 그런데 사실 언뜻보면 아래의 linr 함수와 역할의 차이가 없어보인다. "
   ]
  },
  {
   "cell_type": "code",
   "execution_count": 128,
   "id": "f14f4e58-8dfa-4cd1-bde8-a1f7251990e6",
   "metadata": {},
   "outputs": [],
   "source": [
    "torch.manual_seed(43052)\n",
    "linr = torch.nn.Linear(in_features=1,out_features=1)"
   ]
  },
  {
   "cell_type": "code",
   "execution_count": 131,
   "id": "dacb6b59-aa56-4c67-b173-d3928c5f02a6",
   "metadata": {},
   "outputs": [
    {
     "data": {
      "text/plain": [
       "tensor([[-0.8470],\n",
       "        [-1.1937],\n",
       "        [-1.5404],\n",
       "        [-0.8470],\n",
       "        [-1.1937]], grad_fn=<SliceBackward0>)"
      ]
     },
     "execution_count": 131,
     "metadata": {},
     "output_type": "execute_result"
    }
   ],
   "source": [
    "linr(x.float().reshape(-1,1))[:5]"
   ]
  },
  {
   "cell_type": "markdown",
   "id": "af0e288e-e8ca-4c94-ace7-b3e728a49829",
   "metadata": {},
   "source": [
    "`-` 차이점: 파라메터수에 차이가 있다. "
   ]
  },
  {
   "cell_type": "code",
   "execution_count": 134,
   "id": "ad9eddb1-b295-4e1a-aaab-6bbef5c35b69",
   "metadata": {},
   "outputs": [
    {
     "data": {
      "text/plain": [
       "Parameter containing:\n",
       "tensor([[-0.8178],\n",
       "        [-0.7052],\n",
       "        [-0.5843]], requires_grad=True)"
      ]
     },
     "execution_count": 134,
     "metadata": {},
     "output_type": "execute_result"
    }
   ],
   "source": [
    "ebdd.weight"
   ]
  },
  {
   "cell_type": "code",
   "execution_count": 135,
   "id": "0a781909-feb8-4945-95da-de132de1afc5",
   "metadata": {},
   "outputs": [
    {
     "data": {
      "text/plain": [
       "(Parameter containing:\n",
       " tensor([[-0.3467]], requires_grad=True),\n",
       " Parameter containing:\n",
       " tensor([-0.8470], requires_grad=True))"
      ]
     },
     "execution_count": 135,
     "metadata": {},
     "output_type": "execute_result"
    }
   ],
   "source": [
    "linr.weight, linr.bias"
   ]
  },
  {
   "cell_type": "markdown",
   "id": "897dd9c1-7bab-4e73-b08e-6d45c36bba8a",
   "metadata": {},
   "source": [
    "결국 ebdd는 아래의 구조에 해당하는 파라메터들이고 "
   ]
  },
  {
   "cell_type": "markdown",
   "id": "ea9bd613-6b33-4ab8-8568-96d51b88d321",
   "metadata": {},
   "source": [
    "- $\\text{x[:5]}= \\begin{bmatrix} 0 \\\\ 1 \\\\ 2 \\\\ 0 \\\\ 1 \\end{bmatrix} \\Longrightarrow \\begin{bmatrix} 1 & 0 & 0 \\\\ 0 & 1 & 0 \\\\ 0 & 0 & 1 \\\\ 1 & 0 & 0 \\\\ 0 & 1 & 0 \\end{bmatrix} \\quad net(x)= \\begin{bmatrix} 1 & 0 & 0 \\\\ 0 & 1 & 0 \\\\ 0 & 0 & 1 \\\\ 1 & 0 & 0 \\\\ 0 & 1 & 0 \\end{bmatrix}\\begin{bmatrix} -0.8178 \\\\ -0.7052 \\\\ -0.5843 \\end{bmatrix} = \\begin{bmatrix} -0.8178 \\\\ -0.7052 \\\\ -0.5843 \\\\ -0.8178 \\\\ -0.7052  \\end{bmatrix} $"
   ]
  },
  {
   "cell_type": "markdown",
   "id": "40b3ef0f-824e-49d2-bca7-4e3de15da36e",
   "metadata": {},
   "source": [
    "linr는 아래의 구조에 해당하는 파라메터이다. "
   ]
  },
  {
   "cell_type": "markdown",
   "id": "01171788-77c0-4d21-a1d3-a8e3f9262018",
   "metadata": {},
   "source": [
    "- $\\text{x[:5]}= \\begin{bmatrix} 0 \\\\ 1 \\\\ 2 \\\\ 0 \\\\ 1 \\end{bmatrix} \\quad net(x)=  \\begin{bmatrix} 0 \\\\ 1 \\\\ 2 \\\\ 0 \\\\ 1 \\end{bmatrix} \\times (-0.3467) + (-0.8470)=\\begin{bmatrix} -0.8470 \\\\ -1.1937 \\\\ -1.5404 \\\\ -0.8470 \\\\ -1.1937 \\end{bmatrix}$"
   ]
  },
  {
   "cell_type": "markdown",
   "id": "e63021a0-d867-46d5-a10e-8962d3262f88",
   "metadata": {},
   "source": [
    "### 연습 (ab문제 소프트맥스로 확장한 것 다시 풀이)"
   ]
  },
  {
   "cell_type": "markdown",
   "id": "a2ebf039-6bb7-4783-95e9-a5a5bbf04d14",
   "metadata": {},
   "source": [
    "`-` 맵핑"
   ]
  },
  {
   "cell_type": "code",
   "execution_count": 136,
   "id": "a1c63d9c-28bf-488d-a52d-468ef1a7ac21",
   "metadata": {},
   "outputs": [
    {
     "data": {
      "text/plain": [
       "(tensor([0, 1, 0, 1, 0]), tensor([1, 0, 1, 0, 1]))"
      ]
     },
     "execution_count": 136,
     "metadata": {},
     "output_type": "execute_result"
    }
   ],
   "source": [
    "mapping = {'a':0,'b':1}\n",
    "x = torch.tensor(f(txt_x,mapping))\n",
    "y = torch.tensor(f(txt_y,mapping))\n",
    "x[:5],y[:5]"
   ]
  },
  {
   "cell_type": "markdown",
   "id": "a0b98e8d-8366-4858-9b22-4227def12abb",
   "metadata": {},
   "source": [
    "`-` torch.nn.Embedding 을 넣은 네트워크 "
   ]
  },
  {
   "cell_type": "code",
   "execution_count": 137,
   "id": "dbd064c4-5700-475a-8269-4b4a5853468f",
   "metadata": {},
   "outputs": [],
   "source": [
    "net = torch.nn.Sequential(\n",
    "    torch.nn.Embedding(num_embeddings=2,embedding_dim=1),\n",
    "    torch.nn.Tanh(),\n",
    "    torch.nn.Linear(in_features=1,out_features=2)\n",
    ")\n",
    "loss_fn = torch.nn.CrossEntropyLoss()\n",
    "optimizr = torch.optim.Adam(net.parameters())"
   ]
  },
  {
   "cell_type": "markdown",
   "id": "54a61bed-d6af-43df-abb0-81e713ce1f05",
   "metadata": {},
   "source": [
    "`-` 학습"
   ]
  },
  {
   "cell_type": "code",
   "execution_count": 138,
   "id": "257e9836-e4ab-46d7-adfc-334ba69f07c7",
   "metadata": {},
   "outputs": [],
   "source": [
    "for epoc in range(5000):\n",
    "    ## 1\n",
    "    yhat = net(x)\n",
    "    ## 2 \n",
    "    loss = loss_fn(yhat,y)\n",
    "    ## 3 \n",
    "    loss.backward()\n",
    "    ## 4 \n",
    "    optimizr.step()\n",
    "    optimizr.zero_grad()"
   ]
  },
  {
   "cell_type": "code",
   "execution_count": 139,
   "id": "8e78e767-5ff6-4059-b064-72b7ea87f4b4",
   "metadata": {},
   "outputs": [
    {
     "data": {
      "text/plain": [
       "[<matplotlib.lines.Line2D at 0x7f1d02fe6490>]"
      ]
     },
     "execution_count": 139,
     "metadata": {},
     "output_type": "execute_result"
    },
    {
     "data": {
      "image/png": "[encoded data removed]",
      "text/plain": [
       "<Figure size 432x288 with 1 Axes>"
      ]
     },
     "metadata": {
      "needs_background": "light"
     },
     "output_type": "display_data"
    }
   ],
   "source": [
    "plt.plot(y[:5],'o')\n",
    "plt.plot(soft(net(x[:5]))[:,1].data,'--r')"
   ]
  },
  {
   "cell_type": "code",
   "execution_count": 140,
   "id": "60c25b5a-8932-404f-af26-ccb221b76014",
   "metadata": {},
   "outputs": [
    {
     "data": {
      "text/plain": [
       "<matplotlib.image.AxesImage at 0x7f1d0301bf90>"
      ]
     },
     "execution_count": 140,
     "metadata": {},
     "output_type": "execute_result"
    },
    {
     "data": {
      "image/png": "[encoded data removed]",
      "text/plain": [
       "<Figure size 432x288 with 1 Axes>"
      ]
     },
     "metadata": {
      "needs_background": "light"
     },
     "output_type": "display_data"
    }
   ],
   "source": [
    "plt.imshow(soft(net(x[:5])).data)"
   ]
  }
 ],
 "metadata": {
  "kernelspec": {
   "display_name": "Python 3 (ipykernel)",
   "language": "python",
   "name": "python3"
  },
  "language_info": {
   "codemirror_mode": {
    "name": "ipython",
    "version": 3
   },
   "file_extension": ".py",
   "mimetype": "text/x-python",
   "name": "python",
   "nbconvert_exporter": "python",
   "pygments_lexer": "ipython3",
   "version": "3.7.13"
  }
 },
 "nbformat": 4,
 "nbformat_minor": 5
}
